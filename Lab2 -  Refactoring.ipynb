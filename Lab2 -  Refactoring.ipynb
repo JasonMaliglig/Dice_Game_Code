{
 "cells": [
  {
   "cell_type": "markdown",
   "id": "0209af47-6b8d-4f34-8292-aa79deef5088",
   "metadata": {},
   "source": [
    "# Lab 2 - Refactoring\n",
    "## Refactoring is:\n",
    "\n",
    "Refactoring is the process of restructuring or rewriting code, while not changing its original functionality. The goal of refactoring is to improve internal code by making many small changes without altering the code's external behavior. \n",
    "\n",
    "It is easier said than done. "
   ]
  },
  {
   "cell_type": "markdown",
   "id": "f470981d-7433-42f0-a742-a9ddeae57056",
   "metadata": {},
   "source": [
    "### Part 1 - Warm up\n",
    "\n",
    "You will refactor the following code:"
   ]
  },
  {
   "cell_type": "code",
   "execution_count": null,
   "id": "b817e22e-46ae-4dfe-9a38-c3d3e818168b",
   "metadata": {},
   "outputs": [],
   "source": [
    "#stolen from https://realpython.com/python-refactoring/\n",
    "#yes you can go there and look at what they did no do it yourself\n",
    "x = 5\n",
    "value = input(\"Enter a number: \")\n",
    "y = int(value)\n",
    "if x < y:\n",
    "    print(f\"{x} is less than {y}\")\n",
    "elif x == y:\n",
    "    print(f\"{x} is equal to {y}\")\n",
    "else:\n",
    "    print(f\"{x} is more than {y}\")"
   ]
  },
  {
   "cell_type": "code",
   "execution_count": null,
   "id": "033cf53c-96bc-4174-813d-09ad088787d6",
   "metadata": {},
   "outputs": [],
   "source": [
    "x = 5; y = int(input(\"Enter a number:\"))\n",
    "equality = \"is equal to\" if x == y else \"is less than\" if x < y else \"is more than\"\n",
    "print(f\"{x} {equality} {y}\")"
   ]
  },
  {
   "cell_type": "markdown",
   "id": "bb9edc37-9bd7-4b4a-8ec1-d1465d85be37",
   "metadata": {},
   "source": [
    "## Part 2\n",
    "Refactor Lab 1 into a function that can be used over and over again"
   ]
  },
  {
   "cell_type": "code",
   "execution_count": null,
   "id": "fe335c43",
   "metadata": {},
   "outputs": [],
   "source": [
    "import random\n",
    "\n",
    "def dice_roll():\n",
    "    return random.randint(1, 6)\n",
    "\n",
    "def roll_dice(number_of_die):\n",
    "    dice_values = []\n",
    "    running_total = 0\n",
    "    for current_die in range(1, number_of_die + 1):\n",
    "        die_value = dice_roll()\n",
    "        print(\"Die \" + str(current_die) + \" is \" + str(die_value))\n",
    "        if die_value == 1:\n",
    "            print(\"Bad luck :(\")\n",
    "        elif die_value == 6:\n",
    "            print(\"Perfect roll!\")\n",
    "        running_total += die_value\n",
    "        dice_values.append(die_value)\n",
    "    return running_total, dice_values\n",
    "\n",
    "def play_dice_game():\n",
    "    top_scores = []\n",
    "    all_scores = []\n",
    "\n",
    "    while True:\n",
    "        number_of_die = int(input(\"Select the number of die you want to roll from 1-6: \"))\n",
    "        print(\"You chose to roll \" + str(number_of_die) + \" die!\")\n",
    "        running_total, dice_values = roll_dice(number_of_die)\n",
    "\n",
    "        print(\"Total Value = \" + str(running_total))\n",
    "        top_scores.append(running_total)\n",
    "        top_scores.sort(reverse=True)\n",
    "        top_scores = top_scores[:3]\n",
    "\n",
    "        all_scores.extend(top_scores)\n",
    "\n",
    "        play_again = input(\"Do you want to play again? (yes/no): \").lower()\n",
    "        if play_again != \"yes\":\n",
    "            print(\"Thanks for playing!\")\n",
    "            print(\"Top 3 Scores:\", top_scores)\n",
    "            average_score = sum(all_scores) / len(all_scores)\n",
    "            print(\"Average Overall Score:\", average_score)\n",
    "            break\n",
    "\n",
    "if __name__ == \"__main__\":\n",
    "    play_dice_game()"
   ]
  },
  {
   "cell_type": "markdown",
   "id": "e589c6c8-f937-47e0-8db2-a37e03c12336",
   "metadata": {},
   "source": [
    "## Part 3 \n",
    "\n",
    "# But first a preview.... \n",
    "# Project #1  WIP This will change... \n",
    "\n",
    "You are project is to create a text based video game player profile, invintory system, and combat system. You must create a realistic player with at least 10 invintory items. Each item must have a discription and a trate assosiated with it. Have fun with this. \n",
    "\n",
    "You must use all items covered thus far (files (read and write), json, operators, lists, tuples(optional), functions, modules and classes)\n",
    "    \n",
    "- The adventure game should have the option to choose your player type\n",
    "  - Upon choosing your player type player atributes must be set ie wizard magic = 10, knight magic = 0 \n",
    "- Write a function to display the invintory of the player. \n",
    "- Write a function to get more detail on an item in the invintory.\n",
    "  - Knife \"forged in the depths of polymar\", +5 magic, edged weapon, one handed etc \n",
    "      - bonus points for calculating bonuses to wepons when equiping and dequiping \n",
    "- Write a function to add and remove items from the invintory\n",
    "- Ensure I am able to close the program and reload the character (ie files)\n",
    "    \n",
    "\n"
   ]
  },
  {
   "cell_type": "markdown",
   "id": "1fe3ba5e-722b-4ed8-b36f-c9ebd718bd7d",
   "metadata": {},
   "source": [
    "# Project 1 - Part 1\n",
    "Spend time planning out your code. You may work with your partner to plan out your code. How would you like your game to play? \n",
    "\n",
    "Use a UML planner like: \n",
    "\n",
    "\n",
    "https://miro.com/\n"
   ]
  },
  {
   "cell_type": "code",
   "execution_count": null,
   "id": "3bdce5be-0a31-4cf9-ba17-0f5be8cefc33",
   "metadata": {},
   "outputs": [],
   "source": []
  }
 ],
 "metadata": {
  "kernelspec": {
   "display_name": "Python 3 (ipykernel)",
   "language": "python",
   "name": "python3"
  },
  "language_info": {
   "codemirror_mode": {
    "name": "ipython",
    "version": 3
   },
   "file_extension": ".py",
   "mimetype": "text/x-python",
   "name": "python",
   "nbconvert_exporter": "python",
   "pygments_lexer": "ipython3",
   "version": "3.11.5"
  }
 },
 "nbformat": 4,
 "nbformat_minor": 5
}
